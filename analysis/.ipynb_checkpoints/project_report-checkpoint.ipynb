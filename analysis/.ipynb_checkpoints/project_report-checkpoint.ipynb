{
 "cells": [
  {
   "cell_type": "markdown",
   "metadata": {},
   "source": [
    "# Project Report\n",
    "\n",
    "<p> By Shraddha Jhingan, Sofia Maysenhalder, Tammie Tam </p>\n",
    "<p> March 15, 2022 </p>"
   ]
  },
  {
   "cell_type": "markdown",
   "metadata": {},
   "source": [
    "## Introduction"
   ]
  },
  {
   "cell_type": "markdown",
   "metadata": {},
   "source": [
    "In 2020, the number of reported hate crimes in the United States rose 6 percent from 2019, according to the FBI [1]. About 62 percent of reported hate crimes were racially motivated [2]. To get further insight into hate crimes, we can look at a well-studied country like Germany where researchers have examined the role of social media on the frequency of hate crimes. According to a research paper by Karsten Müller and Carlo Schwarz, increased anti-refugee rhetoric and sentiments on social media has been correlated with an increased frequency in anti-refugee hate crimes in Germany [3]. Therefore, we are interested in the role of social media on hate crimes in the United States, while also investigating other aspects of hate crimes such as motivation and location. Some questions we are interested in including:\n",
    "* Who are those most vulnerable to crimes?\n",
    "* What biases are the strongest motivators in hate crimes?\n",
    "* Where are the most crimes taking place (e.g. populated cities, rural towns, etc.)?\n",
    "* Is there a correlation with search trends/social media usage and hate crimes?\n",
    "* Narrowing into specific cities (e.g. Sacramento) and specific hate crimes (e.g. against a racial group), is there an increase in sentiment against a particular group when there is increased hate crime against that particular group in that city?"
   ]
  },
  {
   "cell_type": "markdown",
   "metadata": {},
   "source": [
    "<p> By answering these questions, we hope to understand ways hate crimes can be prevented and where we can target hate-crime-prevention policies. </p>"
   ]
  },
  {
   "cell_type": "markdown",
   "metadata": {},
   "source": [
    "## Analysis/Visualization"
   ]
  },
  {
   "cell_type": "markdown",
   "metadata": {},
   "source": [
    "### USA Hate Crimes"
   ]
  },
  {
   "cell_type": "markdown",
   "metadata": {},
   "source": [
    "#### Data Collection + Cleaning"
   ]
  },
  {
   "cell_type": "markdown",
   "metadata": {},
   "source": [
    "To obtain data about hate crimes in the United States and California, we are using the Federal Bureau of Investigation’s 1991-2020 Hate Crime Dataset (hc), which is downloadable from their Crime Data Explore webpage (<a href = https://crime-data-explorer.app.cloud.gov/pages/downloads>FBI Crime Data Explorer</a>). The dataset contains pertinent information, such as the year, the motivation (\"bias_desc\"), and location (\"state_abbr\", \"pub_agency_name\"), on reported hate crimes across the U.S from 1991-2020. The dataset is overall complete, but has a few formatting issues. The column names were in inconsistent letter casing, so we made them all lower cases, and renamed column names to make them more simplistic, such as renaming “data_year” to “year”. Missing values and unnecessary columns were removed from the dataset. One interesting thing is that “Nebraska” was abbreviated “NB” when the official abbreviation for it is “NE.” This was an issue when trying to generate maps that relied on the official abbreviation, so this issue was fixed by replacing “NB” for “NE” in the “state_abbr” column. Since there were so many different specific biases, each bias was assigned a bias category for a more standardized analysis. Some reported hate crime incidents had more than one bias, so these were removed since they were only a few and would make subsequent visualizations more messy."
   ]
  },
  {
   "cell_type": "markdown",
   "metadata": {},
   "source": [
    "#### Data Analysis and Visualization"
   ]
  },
  {
   "cell_type": "markdown",
   "metadata": {},
   "source": [
    "To analyze hate crime in the United States, I attempted to answer the following questions:\n",
    "1. How has the number of hate crimes changed over the years?\n",
    "2. How do the number of reported hate crimes by bias category change each year?\n",
    "3. Within the race/ethnicity (“race/ethn”) bias category, how does racial bias change over time?\n",
    "4. How much did the number of hate crime incidents by race/ethnicity change from 2019 to 2020?\n",
    "5. In each state, how many hate crimes due to race/ethnicity has there been in total since 1991 until 2020?\n",
    "6. In each state, how many hate crimes due to race/ethnicity are there in 2020?\n"
   ]
  },
  {
   "cell_type": "markdown",
   "metadata": {},
   "source": [
    "In the United States, the number of hate crimes increased from 1991 to 2001 and then steadily decreased until 2015. In 2015, the number of hate crimes increased dramatically, reaching an all time high in 2020."
   ]
  },
  {
   "cell_type": "markdown",
   "metadata": {},
   "source": [
    "![US_1](./figures/US_1.png)"
   ]
  },
  {
   "cell_type": "markdown",
   "metadata": {},
   "source": [
    "The dramatic increase in the number of reported hate crimes is due to an increase in the number of racially motivated hate crimes. Other motivators of hate crime such as a person’s sex, sexuality, religion, and disability have remained relatively stabled across the three decades. "
   ]
  },
  {
   "cell_type": "markdown",
   "metadata": {},
   "source": [
    "|Total Number of Hate Crimes By Motivation in the U.S. Between 1991-2020|Change in Total Number of Hate Crimes By Motivation in the U.S. Between 1991-2020|\n",
    "| ----------- | ----------- |\n",
    "|![US_2a](./figures/US_2a.png)|![US_2b](./figures/US_2b.png)|"
   ]
  },
  {
   "cell_type": "markdown",
   "metadata": {},
   "source": [
    "Since race/ethnicity is a significant motivator in hate crime and the main driver in the increase in the number of hate crimes, understanding which anti-race/ethnicity bias is most prevalent is important. The top 5 anti-races/ethnicities biases in hate crimes from most to least are Anti-Black, Anti-White, Anti-Hispanic or Latino, Anti-Other Race/Ethnicity/Ancestry, and Anti-Asian. Out of the 5, anti-Black biases dominate significantly and are the main driver in hate crimes biased by race/ethnicity from 1991 to 2020."
   ]
  },
  {
   "cell_type": "markdown",
   "metadata": {},
   "source": [
    "|Total Number of Hate Crimes By Racial Motivation in the U.S. Between 1991-2020|Change in Number of Hate Crimes By Different Racial Motivation in the U.S. Between 1991-2020|\n",
    "|-----------|-----------|\n",
    "|![US_3](./figures/US_3.png)|![US_4](./figures/US_4.png)|"
   ]
  },
  {
   "cell_type": "markdown",
   "metadata": {},
   "source": [
    "From 2019 to 2020, hate crimes against almost all races except for Arab increased. The top 5 race/ethnicities that experienced an uptick in hate crimes are those of Multiple Races, White, Asian, Black or African American, and Eastern Orthodox. According to the BBC, the rise in hate crimes against Asians is due to the misinformation and negative attention brought about by the COVID-19 pandemic, since COVID-19 originated from China (<a href = https://www.bbc.com/news/world-us-canada-56218684>Cabral 2021</a>). Since the Black Lives Matter Movement that started in 2013, more attention--good and bad--have been placed on Black people. According to Dr. Emmitt Y. Riley, III, this has led to racial tension and resentment from White people, which may contribute to the rise in hate crime against Black people (<a href = https://www.ucpress.edu/blog/54246/racial-resentment-and-whites-feelings-toward-black-lives-matter-a-qa-with-dr-emmitt-y-riley-iii/>UC Press 2021</a>). The rise in anti-White hate crimes is surprising at first glance. But according to the Daily Beast, white nationalist groups are spinning stories of hate crimes against White people, which may have led to over-reporting anti-White hate crimes (<a href = https://www.thedailybeast.com/anti-white-watch-is-the-racist-answer-to-hate-crimes>Hay 2021</a>)."
   ]
  },
  {
   "cell_type": "markdown",
   "metadata": {},
   "source": [
    "|Percent Difference in Number of Hate Crime Incidents\\n By Racial Motivators from 2019-2020 in U.S.|\n",
    "---\n",
    "|![US_5](./figures/US_5.png)|"
   ]
  },
  {
   "cell_type": "markdown",
   "metadata": {},
   "source": [
    "Since 1991, hate crimes due to racial biases have occurred in every state, but have occurred the most in California, the most populous state (<a href = https://worldpopulationreview.com/states>World Population Review</a>). "
   ]
  },
  {
   "cell_type": "markdown",
   "metadata": {},
   "source": [
    "Click for interactive map: <a href=\"./figures/US_racebias.html\">Total Number of Hate Crime Incidents By State since 1991</a>\n",
    "![USmap](./figures/US_racebias.png)"
   ]
  },
  {
   "cell_type": "markdown",
   "metadata": {},
   "source": [
    "Even in 2020, California remains a leading state in hate crimes, with New York coming in a close second."
   ]
  },
  {
   "cell_type": "markdown",
   "metadata": {},
   "source": [
    "Click for interactive map: <a href=\"./figures/US_racebias_20.html\">Total Number of Hate Crime Incidents By State in 2020</a>\n",
    "![USmap](./figures/US_racebias_20.png)"
   ]
  },
  {
   "cell_type": "markdown",
   "metadata": {},
   "source": [
    "### California Hate Crimes"
   ]
  },
  {
   "cell_type": "markdown",
   "metadata": {},
   "source": [
    "#### Data Collection + Cleaning"
   ]
  },
  {
   "cell_type": "markdown",
   "metadata": {},
   "source": [
    "When examining the data on California, there were many cities so we grouped them by counties and the type of counties such as urban, suburban, and rural. To obtain information to cross reference city to county, the 2020_CA_city_to_county.csv (CA_c2c) dataset was obtained from World Population Review (<a href = https://worldpopulationreview.com/us-counties/states/ca>World Population Review</a>). This dataset contains information on which cities are in which counties. The counties were grouped into “urban”, “suburban”, and “rural” (<a href = https://www.counties.org/sites/main/files/file-attachments/2020-june3-countycaucusesinfographic-4-final.pdf>CA State Association of Counties</a>)."
   ]
  },
  {
   "cell_type": "markdown",
   "metadata": {},
   "source": [
    "To make the California-only hate crime dataset, I subsetted the national hate crime dataset from the FBI by selecting rows with “CA” in the “state_abbr” column. On top of this, I cross referenced the city and county from the hate crime dataset to the CA_c2c dataset and added two columns “county” and “county_cat” to provide information on the county name of that city and the type of county it belongs to. Since there were some reported hate crime incidents that did not report back a city or county name, I removed those from the dataset. "
   ]
  },
  {
   "cell_type": "markdown",
   "metadata": {},
   "source": [
    "#### Data Analysis and Visualization"
   ]
  },
  {
   "cell_type": "markdown",
   "metadata": {},
   "source": [
    "To analyze hate crime in California, I attempted to ask similar questions as at the U.S. level:\n",
    "1. How has the number of hate crimes changed over the years?\n",
    "2. How do the numbers of reported hate crimes by bias category change each year?\n",
    "3. Within the race/ethnicity (“race/ethn”) bias category, how does racial bias change over time?\n",
    "4. How much did the number of hate crime incidents by racial motivations change from 2019 to 2020?\n",
    "5. What are the major biases motivating hate crime in urban, suburban, and rural counties?\n",
    "6. Does the number of hate crimes motivated by race/ethnicity vary between urban, suburban, and rural counties?\n",
    "7. In each county in CA, how many hate crimes due to race/ethnicity are there in total since 1991?\n",
    "8. In each county in CA, how many hate crimes due to race/ethnicity are there in 2020?"
   ]
  },
  {
   "cell_type": "markdown",
   "metadata": {},
   "source": [
    "Following the national trend, the number of hate crimes in California increased until around 2001, and decreased until 2015 before picking back up. "
   ]
  },
  {
   "cell_type": "markdown",
   "metadata": {},
   "source": [
    "![CA_1](./figures/CA_1.png)"
   ]
  },
  {
   "cell_type": "markdown",
   "metadata": {},
   "source": [
    "Since 1991, the top three biases fueling hate crimes include race/ethnicity, sexuality, and religion. Hate crimes against race/ethnicity are the most common across all years since 1991. Proportion-wise, hate crimes against race/ethnicity occur at a lesser rate than on a national level. Anti-race/ethnicity bias in hate crimes is one of the only biases to experience a significant increase around 2020, once again demonstrating anti-race/ethnicity bias to be the largest driver in the number of reported hate crimes."
   ]
  },
  {
   "cell_type": "markdown",
   "metadata": {},
   "source": [
    "|Total Number of Hate Crimes By Motivation in CA. Between 1991-2020|Change in Total Number of Hate Crimes By Motivation in CA Between 1991-2020|\n",
    "| ----------- | ----------- |\n",
    "|![CA_2](./figures/CA_2.png)|![CA_3](./figures/CA_3.png)|"
   ]
  },
  {
   "cell_type": "markdown",
   "metadata": {},
   "source": [
    "Similar to hate crimes across the U.S. the top 5 racial motivators from highest to lowest is anti-Black or African American, Anti-Hispanic or Latino, Anti-Asian, Anti-White, and Anti-Other Race/Ethnicity/Ancestry. One main difference is that hate crimes against Hispanics or Latinos are more common than one would think from examining the patterns at the national level. This may be because California has one of the largest Hispanic and Latino populations (<a href = https://www.statista.com/statistics/259850/hispanic-population-of-the-us-by-state/>Statista 2019</a>)."
   ]
  },
  {
   "cell_type": "markdown",
   "metadata": {},
   "source": [
    "|Total Number of Hate Crimes By Racial Motivation in CA. Between 1991-2020|Change in Total Number of Hate Crimes By Racial Motivation in CA Between 1991-2020|\n",
    "| ----------- | ----------- |\n",
    "|![CA_4](./figures/CA_4.png)|![CA_5](./figures/CA_5.png)|"
   ]
  },
  {
   "cell_type": "markdown",
   "metadata": {},
   "source": [
    "From 2019 to 2020, hate crimes against all races except for Arab and Multiple Race increased. Hate crimes against Arabs decreased, while hate crimes against those of multiple races remained the same. The most noteworthy increase is that hate crimes against Asians increased by nearly 120 percent. One reason for this is the start of the COVID-19 pandemic in 2020 that drew a lot of negative attention and attitudes towards Asians and those of Asian descent. Since California has the highest Asian population out of all the states, an increase in hate crimes against Asians is not surprising (<a href =https://worldpopulationreview.com/state-rankings/asian-population>World Population Review 2022</a>). New stories of attacks on Asians have dominated the news cycle in many major California cities like Sacramento and Los Angeles (<a href=https://www.capradio.org/articles/2021/03/17/we-have-been-targeted-sacramento-asian-american-community-demands-more-support-unity-after-atlanta-killings/>Mizes-Tan 2021</a>, <a href = https://www.latimes.com/california/story/2021-10-20/l-a-county-sees-significant-increase-in-anti-asian-hate-crimes>Cosgrove 2021</a>)."
   ]
  },
  {
   "cell_type": "markdown",
   "metadata": {},
   "source": [
    "|Percent Difference in Number of Hate Crimes by Racial Motivators from 2019 to 2020 in CA|\n",
    "---\n",
    "|![CA_6](./figures/CA_6.png)|"
   ]
  },
  {
   "cell_type": "markdown",
   "metadata": {},
   "source": [
    "Across urban, suburban, and rural counties, hate crimes against race/ethnicity dominate on top of other biases. Similarly, hate crimes against sexuality and religion follow as the next most common hate crimes. "
   ]
  },
  {
   "cell_type": "markdown",
   "metadata": {},
   "source": [
    "![CA_7a](./figures/CA_7a.png)"
   ]
  },
  {
   "cell_type": "markdown",
   "metadata": {},
   "source": [
    "![CA_7b](./figures/CA_7b.png)"
   ]
  },
  {
   "cell_type": "markdown",
   "metadata": {},
   "source": [
    "![CA_7c](./figures/CA_7c.png)"
   ]
  },
  {
   "cell_type": "markdown",
   "metadata": {},
   "source": [
    "Since urban counties have higher populations, they have the highest number of hate crimes from 1991-2020. Interestingly, only hate crimes in urban counties follow the trend found at the national and state level, such that there is an increase in hate crime until 2001 and then a decrease until around 2014 before increasing again. This trend is not found in suburban or rural counties. As a result, hate crimes in urban counties have the greatest impact on the trend seen at the state level."
   ]
  },
  {
   "cell_type": "markdown",
   "metadata": {},
   "source": [
    "![CA_8](./figures/CA_8.png)"
   ]
  },
  {
   "cell_type": "markdown",
   "metadata": {},
   "source": [
    "Totaling the number of hate crimes from 1991 to 2020, most counties in California have comparable levels of hate crimes, but Los Angeles and San Diego County stand out with much higher levels of hate crimes against race/ethnicity. This may be attributed to the two counties having a high population (<a href=https://www.california-demographics.com/counties_by_population>California Demographics 2020</a>)."
   ]
  },
  {
   "cell_type": "markdown",
   "metadata": {},
   "source": [
    "Click for interactive map: <a href=\"./figures/CA_racebias.html\">Total Number of Hate Crime Incidents in CA since 1991</a>\n",
    "![](./figures/CA_racebias.png)"
   ]
  },
  {
   "cell_type": "markdown",
   "metadata": {},
   "source": [
    "Even in 2020, this pattern still stands with Los Angeles county and San Diego county having higher levels of racially motivated hate crimes."
   ]
  },
  {
   "cell_type": "markdown",
   "metadata": {},
   "source": [
    "Click for interactive map: <a href=\"./figures/CA_racebias_20.html\">Total Number of Hate Crime Incidents in CA in 2020</a>\n",
    "![](./figures/CA_racebias_20.png)"
   ]
  },
  {
   "cell_type": "markdown",
   "metadata": {},
   "source": [
    "### Sacramento Hate Crimes"
   ]
  },
  {
   "cell_type": "markdown",
   "metadata": {},
   "source": [
    "#### Data Collection + Cleaning"
   ]
  },
  {
   "cell_type": "markdown",
   "metadata": {},
   "source": [
    "##### *Sacramento Hate Crime Dataset*"
   ]
  },
  {
   "cell_type": "markdown",
   "metadata": {},
   "source": [
    "##### *API*"
   ]
  },
  {
   "cell_type": "markdown",
   "metadata": {},
   "source": [
    "#### Data Analysis and Visualization"
   ]
  },
  {
   "cell_type": "markdown",
   "metadata": {},
   "source": [
    "### Reddit, Social Media Hate Speech (rename title)"
   ]
  },
  {
   "cell_type": "markdown",
   "metadata": {},
   "source": [
    "## Conclusion"
   ]
  },
  {
   "cell_type": "markdown",
   "metadata": {},
   "source": [
    "## Bibliography"
   ]
  },
  {
   "cell_type": "markdown",
   "metadata": {},
   "source": [
    "1. Hernandez J. Hate crimes reach the highest level in more than a decade. NPR. https://www.npr.org/2021/08/31/1032932257/hate-crimes-reach-the-highest-level-in-more-than-a-decade. Published September 1, 2021. Accessed February 13, 2022.\n",
    "2. Hate crime statistics. Published August 30, 2021. Accessed February 13, 2022. https://www.justice.gov/hatecrimes/hate-crime-statistics\n",
    "3. Müller K, Schwarz C. Fanning the flames of hate: social media and hate crime. Journal of the European Economic Association. 2021;19(4):2131-2167. doi:10.1093/jeea/jvaa045\n",
    "4. Anguiano D. SF police data shows 567% increase in reports of hate crimes against Asian Americans. The Guardian. https://www.theguardian.com/us-news/2022/jan/26/san-francisco-increase-hate-crime-anti-asian-aapi. Published January 26, 2022. Accessed February 13, 2022.\n",
    "5. Crime Data Explorer. Accessed March 14, 2022. https://crime-data-explorer.app.cloud.gov/pages/downloads\n",
    "6. Population of counties in california(2022). Accessed March 14, 2022. https://worldpopulationreview.com/us-counties/states/ca\n",
    "7. California Counties. https://www.counties.org/sites/main/files/file-attachments/2020-june3-countycaucusesinfographic-4-final.pdf\n",
    "8. Cabral S. Covid “hate crimes” against Asian Americans on rise. BBC News. https://www.bbc.com/news/world-us-canada-56218684. Published May 21, 2021. Accessed March 14, 2022.\n",
    "9. Racial resentment and whites’ feelings toward black lives matter: a q&a with dr. Emmitt y. Riley, iii. UC Press Blog. Accessed March 14, 2022. https://www.ucpress.edu/blog/54246/racial-resentment-and-whites-feelings-toward-black-lives-matter-a-qa-with-dr-emmitt-y-riley-iii/\n",
    "10. Hay M. ‘Anti-white watch’ is the racist answer to surging hate crimes. The Daily Beast. https://www.thedailybeast.com/anti-white-watch-is-the-racist-answer-to-hate-crimes. Published May 11, 2021. Accessed March 14, 2022.\n",
    "11. Us states - ranked by population 2022. Accessed March 14, 2022. https://worldpopulationreview.com/states\n",
    "12. U.S. Hispanic population, by state 2019. Statista. Accessed March 14, 2022. https://www.statista.com/statistics/259850/hispanic-population-of-the-us-by-state/\n",
    "13. Asian american population by state 2022. Accessed March 14, 2022. https://worldpopulationreview.com/state-rankings/asian-population\n",
    "14. Cosgrove Jacyln. L.A. County reports 76% increase in anti-Asian hate crimes. Los Angeles Times. Published October 21, 2021. Accessed March 14, 2022. https://www.latimes.com/california/story/2021-10-20/l-a-county-sees-significant-increase-in-anti-asian-hate-crimes\n",
    "15. Mizes-Tan S. ‘We have been targeted’: sacramento asian american community demands more support, unity after atlanta killings. Published 2021. Accessed March 14, 2022. https://www.capradio.org/163655\n",
    "16. California counties by population. Accessed March 14, 2022. https://www.california-demographics.com/counties_by_population"
   ]
  }
 ],
 "metadata": {
  "kernelspec": {
   "display_name": "Python 3",
   "language": "python",
   "name": "python3"
  },
  "language_info": {
   "codemirror_mode": {
    "name": "ipython",
    "version": 3
   },
   "file_extension": ".py",
   "mimetype": "text/x-python",
   "name": "python",
   "nbconvert_exporter": "python",
   "pygments_lexer": "ipython3",
   "version": "3.8.5"
  }
 },
 "nbformat": 4,
 "nbformat_minor": 4
}
