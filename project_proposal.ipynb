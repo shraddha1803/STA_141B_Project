{
 "cells": [
  {
   "cell_type": "markdown",
   "metadata": {},
   "source": [
    "# STA 141B Project Proposal\n",
    "\n",
    "By Shraddha Jhingan, Sofia Maysenhalder, Tammie Tam"
   ]
  },
  {
   "cell_type": "markdown",
   "metadata": {},
   "source": [
    "*   What's the topic of your project? What question(s) will you attempt to\n",
    "    answer or what problems will you attempt to solve? Why and to whom are\n",
    "    these meaningful?\n",
    "\n",
    "*   What data source(s) will your team use? Briefly describe each data source\n",
    "    and explain how you think you will use it. Provide a link for each data\n",
    "    source. This is a check to make sure that there is actually data available\n",
    "    for your topic. If you ultimately decide not to use some of the data\n",
    "    sources, or find additional data sources later, that's okay.\n",
    "\n",
    "*   What makes your project challenging? Consider that you will have about 6\n",
    "    weeks to work on the project. What skills from STA 141A-B or other\n",
    "    statistics classes do you expect to use on the project?"
   ]
  }
 ],
 "metadata": {
  "kernelspec": {
   "display_name": "Python 3",
   "language": "python",
   "name": "python3"
  },
  "language_info": {
   "codemirror_mode": {
    "name": "ipython",
    "version": 3
   },
   "file_extension": ".py",
   "mimetype": "text/x-python",
   "name": "python",
   "nbconvert_exporter": "python",
   "pygments_lexer": "ipython3",
   "version": "3.8.5"
  }
 },
 "nbformat": 4,
 "nbformat_minor": 4
}
